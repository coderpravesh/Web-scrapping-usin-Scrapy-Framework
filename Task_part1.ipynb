{
 "cells": [
  {
   "cell_type": "code",
   "execution_count": null,
   "metadata": {
    "id": "w7dV6ii1qFo5"
   },
   "outputs": [],
   "source": [
    "!pip install scrapy"
   ]
  },
  {
   "cell_type": "code",
   "execution_count": null,
   "metadata": {
    "id": "71zp6ichtDF-"
   },
   "outputs": [],
   "source": [
    "import scrapy \n",
    "from scrapy.crawler import CrawlerProcess\n",
    "from scrapy import Spider,Request\n",
    "import json\n",
    "import pandas as pd"
   ]
  },
  {
   "cell_type": "code",
   "execution_count": null,
   "metadata": {
    "id": "pC6ylfNp3hJA"
   },
   "outputs": [],
   "source": [
    "# generating all required urls \n",
    "urls = [] \n",
    "for i in range(1,40) :\n",
    "  url = f'https://www.net-a-porter.com/en-in/shop/clothing/tops?pageNumber={i}' #this is the topwear portel website and its page \n",
    "  urls.append(url)"
   ]
  },
  {
   "cell_type": "code",
   "execution_count": null,
   "metadata": {
    "id": "ZzwPe0_qrZAf"
   },
   "outputs": [],
   "source": [
    "product_detail=[] # declaring product list variable \n",
    "\n",
    "class TopwearSpider (scrapy.Spider ):\n",
    "    name='Topwear'\n",
    "    \n",
    "    def start_requests(self) :\n",
    "      for url in urls :\n",
    "        yield scrapy.Request( url = url , callback= self.parse )\n",
    "        \n",
    "    def parse(self , response ):  \n",
    "      xpath = '/html/body/main/div/div[2]/section/div[2]/div/div[2]//a' # xpath for product link\n",
    "      product_name = response.xpath(xpath)   # list of href tags \n",
    "      print(product_name)\n",
    "      \n",
    "\n",
    "      for p_name in product_name:\n",
    "        # '/en-in/shop/product/stella-mccartney/clothing/t-shirts/plus-the-beatles-get-back-printed-tie-dyed-cotton-jersey-t-shirt/24062987016703457'\n",
    "        a = p_name.xpath('./@href').extract()[0]\n",
    "        \n",
    "        try:\n",
    "          product_brand = a.split('/')[4].replace('-',' ') # taking out brand name from the a href tag \n",
    "          product_name = a.split('/')[7].replace('-',' ')  # taking out name \n",
    "          price = discount = int(p_name.xpath('.//span[@class=\"PriceWithSchema9__value\"]/span/text()').extract()[0][1:])\n",
    "        except:\n",
    "          product_brand = ''\n",
    "          product_name = ''\n",
    "          price = discount = 0\n",
    "\n",
    "        pic_link = p_name.xpath('.//picture//img//@src').extract() \n",
    "        product_url = response.url+'/'+a        # product url = response url + ahref \n",
    "\n",
    "        product_detail.append({\n",
    "            'Name' : product_name,\n",
    "            'Brand' : product_brand,\n",
    "            'original_price' : price,\n",
    "            'Sale_price' : discount,\n",
    "            'image_url' : pic_link,\n",
    "            'product_page_url' : product_url,\n",
    "            'product_category' :  \"Topwear\"\n",
    "          })\n",
    "\n",
    "process = CrawlerProcess()\n",
    "process.crawl(TopwearSpider)\n",
    "process.start()\n"
   ]
  },
  {
   "cell_type": "code",
   "execution_count": null,
   "metadata": {
    "colab": {
     "base_uri": "https://localhost:8080/"
    },
    "id": "e0v_g9-BtoYk",
    "outputId": "b8902837-c692-4a98-8b3b-68497fd122fd"
   },
   "outputs": [
    {
     "name": "stdout",
     "output_type": "stream",
     "text": [
      "Mounted at /content/drive\n"
     ]
    }
   ],
   "source": [
    "from google.colab import drive\n",
    "drive.mount('/content/drive')\n"
   ]
  },
  {
   "cell_type": "code",
   "execution_count": null,
   "metadata": {
    "id": "fUuNlyxyge7X"
   },
   "outputs": [],
   "source": [
    "# pd.DataFrame(product_detail)\n",
    "data_json = json.dumps(product_detail, indent = 7 ) # converting dictionary to json file \n",
    "\n",
    "with open (\"\\\\data1.json\",\"w\") as f :    # downloading json file \n",
    "  f.write(data_json)\n",
    "\n",
    "# print(data_json)\n"
   ]
  },
  {
   "cell_type": "code",
   "execution_count": null,
   "metadata": {
    "id": "62U8RMTvAfI9"
   },
   "outputs": [],
   "source": [
    " # dictionary ={\n",
    "#   \"name\" : product_name,\n",
    "#   \"Brand\" : product_brand,\n",
    "#   \"original_price\" : product_original_price,\n",
    "#   \"sale_price\" : product_sale_price,\n",
    "#   \"image_url\" : product_url,\n",
    "#   \"product_page_url\" : product_page_url,\n",
    "#   \"product_category\" : product_category \n",
    "# }"
   ]
  },
  {
   "cell_type": "code",
   "execution_count": null,
   "metadata": {
    "id": "7-Y9jVei_aoJ"
   },
   "outputs": [],
   "source": []
  }
 ],
 "metadata": {
  "colab": {
   "name": "Task_part1.ipynb",
   "provenance": []
  },
  "kernelspec": {
   "display_name": "Python 3",
   "language": "python",
   "name": "python3"
  },
  "language_info": {
   "codemirror_mode": {
    "name": "ipython",
    "version": 3
   },
   "file_extension": ".py",
   "mimetype": "text/x-python",
   "name": "python",
   "nbconvert_exporter": "python",
   "pygments_lexer": "ipython3",
   "version": "3.8.10"
  }
 },
 "nbformat": 4,
 "nbformat_minor": 1
}
