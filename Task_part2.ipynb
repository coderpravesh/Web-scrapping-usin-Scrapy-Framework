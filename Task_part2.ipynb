{
 "cells": [
  {
   "cell_type": "code",
   "execution_count": null,
   "metadata": {
    "id": "w7dV6ii1qFo5"
   },
   "outputs": [],
   "source": [
    "!pip install scrapy"
   ]
  },
  {
   "cell_type": "code",
   "execution_count": null,
   "metadata": {
    "id": "71zp6ichtDF-"
   },
   "outputs": [],
   "source": [
    "import scrapy \n",
    "from scrapy.crawler import CrawlerProcess\n",
    "from scrapy import Spider,Request\n",
    "import json\n",
    "import pandas as pd"
   ]
  },
  {
   "cell_type": "code",
   "execution_count": null,
   "metadata": {
    "id": "pC6ylfNp3hJA"
   },
   "outputs": [],
   "source": [
    "# generating all required urls\n",
    "urls = [] \n",
    "for i in range(1,53) :\n",
    "  url = f'https://www.net-a-porter.com/en-in/shop/shoes?pageNumber={i}'  #this is the footwear portel website and its page \n",
    "  urls.append(url)"
   ]
  },
  {
   "cell_type": "code",
   "execution_count": null,
   "metadata": {
    "id": "ZzwPe0_qrZAf"
   },
   "outputs": [],
   "source": [
    " product_detail=[] \n",
    "\n",
    "class FootwearSpider (scrapy.Spider ):\n",
    "    name = 'Footwear' \n",
    "    \n",
    "    def start_requests(self) :\n",
    "      for url in urls:\n",
    "        yield scrapy.Request( url = url , callback= self.parse )\n",
    "        \n",
    "    def parse(self , response ):\n",
    "\n",
    "      xpath = '/html/body/main/div/div[2]/section/div[2]/div/div//a' \n",
    "      \n",
    "      product_name = response.xpath(xpath) # list of href tags \n",
    "      print(product_name)\n",
    "      \n",
    "\n",
    "      for p_name in product_name:\n",
    "        a = p_name.xpath('./@href').extract()[0]\n",
    "      \n",
    "        try:\n",
    "          product_brand = a.split('/')[4].replace('-',' ') \n",
    "          product_name = a.split('/')[7].replace('-',' ')\n",
    "          price = discount = int(p_name.xpath('.//span[@class=\"PriceWithSchema9__value\"]/span/text()').extract()[0][1:]) \n",
    "        except:\n",
    "          product_brand = ''\n",
    "          product_name = ''\n",
    "          price=discount = 0\n",
    "\n",
    "        pic_link = p_name.xpath('.//picture//img//@src').extract()\n",
    "        product_url = response.url+'/'+a\n",
    "\n",
    "        product_detail.append({\n",
    "            'Name' : product_name,\n",
    "            'Brand' : product_brand,\n",
    "            'original_price' : price,\n",
    "            'Sale_price' : discount,\n",
    "            'image_url' : pic_link,\n",
    "            'product_page_url' : product_url,\n",
    "            'product_category' :  \"Footwear\"\n",
    "          })\n",
    "      \n",
    "      print(product_detail)\n",
    "      \n",
    "process = CrawlerProcess()\n",
    "process.crawl(FootwearSpider)\n",
    "process.start()"
   ]
  },
  {
   "cell_type": "code",
   "execution_count": null,
   "metadata": {
    "colab": {
     "base_uri": "https://localhost:8080/"
    },
    "id": "6ifRVQhAsWAE",
    "outputId": "24a91781-8254-4d86-ed01-f3abf641de3a"
   },
   "outputs": [
    {
     "name": "stdout",
     "output_type": "stream",
     "text": [
      "Mounted at /content/drive\n"
     ]
    }
   ],
   "source": [
    "from google.colab import drive\n",
    "drive.mount('/content/drive')"
   ]
  },
  {
   "cell_type": "code",
   "execution_count": null,
   "metadata": {
    "id": "fUuNlyxyge7X"
   },
   "outputs": [],
   "source": [
    "# pd.DataFrame(product_detail)\n",
    "data_json = json.dumps(product_detail, indent = 7 ) # converting the list of dictionary into JSON files \n",
    "with open (\"//data2.json\",\"w\") as f : ## downloading json file \n",
    "  f.write(data_json)"
   ]
  },
  {
   "cell_type": "code",
   "execution_count": null,
   "metadata": {
    "id": "62U8RMTvAfI9"
   },
   "outputs": [],
   "source": [
    "# dictionary ={\n",
    "#   \"name\" : product_name ,\n",
    "#   \"Brand\" : product_brand ,\n",
    "#   \"original_price\" : product_original_price ,\n",
    "#   \"sale_price\" : product_sale_price ,\n",
    "#   \"image_url\" : product_url ,\n",
    "#   \"product_page_url\" : product_page_url ,\n",
    "#   \"product_category\" : product_category \n",
    "# }"
   ]
  }
 ],
 "metadata": {
  "colab": {
   "collapsed_sections": [],
   "name": "Task_part2.ipynb",
   "provenance": []
  },
  "kernelspec": {
   "display_name": "Python 3",
   "language": "python",
   "name": "python3"
  },
  "language_info": {
   "codemirror_mode": {
    "name": "ipython",
    "version": 3
   },
   "file_extension": ".py",
   "mimetype": "text/x-python",
   "name": "python",
   "nbconvert_exporter": "python",
   "pygments_lexer": "ipython3",
   "version": "3.8.10"
  }
 },
 "nbformat": 4,
 "nbformat_minor": 1
}
